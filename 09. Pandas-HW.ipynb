{
 "cells": [
  {
   "cell_type": "markdown",
   "metadata": {},
   "source": [
    "### Задание 1  \n",
    "Скачайте с сайта https://grouplens.org/datasets/movielens/ датасет любого размера. Определите какому фильму было выставлено больше всего оценок 5.0."
   ]
  },
  {
   "cell_type": "code",
   "execution_count": 84,
   "metadata": {},
   "outputs": [],
   "source": [
    "import pandas as pd\n",
    "\n",
    "ratings = pd.read_csv('ratings.csv')"
   ]
  },
  {
   "cell_type": "code",
   "execution_count": 58,
   "metadata": {},
   "outputs": [],
   "source": [
    "films = pd.read_csv('movies.csv')"
   ]
  },
  {
   "cell_type": "code",
   "execution_count": 83,
   "metadata": {},
   "outputs": [],
   "source": [
    "film_rating = ratings.merge(films, on = 'movieId', how = 'left')"
   ]
  },
  {
   "cell_type": "code",
   "execution_count": 85,
   "metadata": {},
   "outputs": [
    {
     "data": {
      "text/plain": [
       "rating  movieId  title                           \n",
       "5.0     318      Shawshank Redemption, The (1994)    0.010949\n",
       "dtype: float64"
      ]
     },
     "execution_count": 85,
     "metadata": {},
     "output_type": "execute_result"
    }
   ],
   "source": [
    "film_rating[['rating','movieId','title']][film_rating['rating'] == 5.0].value_counts(normalize = True).head(1)"
   ]
  },
  {
   "cell_type": "markdown",
   "metadata": {},
   "source": [
    "### Задание 2  \n",
    "По данным файла power.csv посчитайте суммарное потребление стран Прибалтики (Латвия, Литва и Эстония) категорий 4, 12 и 21 за период с 2005 по 2010 года. Не учитывайте в расчетах отрицательные значения quantity."
   ]
  },
  {
   "cell_type": "code",
   "execution_count": 87,
   "metadata": {},
   "outputs": [],
   "source": [
    "power = pd.read_csv('power.csv')"
   ]
  },
  {
   "cell_type": "code",
   "execution_count": 134,
   "metadata": {},
   "outputs": [
    {
     "name": "stdout",
     "output_type": "stream",
     "text": [
      "Суммарное потребление стран Прибалтики за период 2005 - 2010 гг: 118284.0 КВт\n"
     ]
    }
   ],
   "source": [
    "power_balt = power[((power['country'] == 'Estonia') | (power['country'] == 'Latvia') | (power['country'] == 'Lithuansa')) # страны прибалтики\n",
    "      & ((power['year'] >= 2005) & (power['year'] <= 2010)) # фильтр на годы\n",
    "      & ((power['category'] == 21) | (power['category'] == 12) | (power['category'] == 4)) # фильтр на категории\n",
    "      & (power['quantity'] > 0)]\n",
    "\n",
    "print('Суммарное потребление стран Прибалтики за период 2005 - 2010 гг:', power_balt['quantity'].sum(),'КВт')\n"
   ]
  },
  {
   "cell_type": "markdown",
   "metadata": {},
   "source": [
    "### Задание 3  \n",
    "Выберите страницу любого сайта с табличными данными. Импортируйте таблицы в pandas dataframe."
   ]
  },
  {
   "cell_type": "code",
   "execution_count": 159,
   "metadata": {},
   "outputs": [
    {
     "data": {
      "text/html": [
       "<div>\n",
       "<style scoped>\n",
       "    .dataframe tbody tr th:only-of-type {\n",
       "        vertical-align: middle;\n",
       "    }\n",
       "\n",
       "    .dataframe tbody tr th {\n",
       "        vertical-align: top;\n",
       "    }\n",
       "\n",
       "    .dataframe thead th {\n",
       "        text-align: right;\n",
       "    }\n",
       "</style>\n",
       "<table border=\"1\" class=\"dataframe\">\n",
       "  <thead>\n",
       "    <tr style=\"text-align: right;\">\n",
       "      <th></th>\n",
       "      <th>0</th>\n",
       "      <th>1</th>\n",
       "      <th>2</th>\n",
       "      <th>3</th>\n",
       "      <th>4</th>\n",
       "      <th>5</th>\n",
       "      <th>6</th>\n",
       "      <th>7</th>\n",
       "      <th>8</th>\n",
       "      <th>9</th>\n",
       "      <th>10</th>\n",
       "      <th>11</th>\n",
       "    </tr>\n",
       "  </thead>\n",
       "  <tbody>\n",
       "    <tr>\n",
       "      <th>0</th>\n",
       "      <td>ММВБ</td>\n",
       "      <td>3 638</td>\n",
       "      <td>0,0%</td>\n",
       "      <td>Nasdaq</td>\n",
       "      <td>13 430</td>\n",
       "      <td>2,3%</td>\n",
       "      <td>Биткойн</td>\n",
       "      <td>48 263</td>\n",
       "      <td>3,0%</td>\n",
       "      <td>USD/RUB</td>\n",
       "      <td>740160</td>\n",
       "      <td>0,0%</td>\n",
       "    </tr>\n",
       "    <tr>\n",
       "      <th>1</th>\n",
       "      <td>РТС</td>\n",
       "      <td>1 549</td>\n",
       "      <td>0,1%</td>\n",
       "      <td>S&amp;P500</td>\n",
       "      <td>4 174</td>\n",
       "      <td>1,5%</td>\n",
       "      <td>Нефть</td>\n",
       "      <td>688</td>\n",
       "      <td>2,7%</td>\n",
       "      <td>EUR/RUB</td>\n",
       "      <td>898740</td>\n",
       "      <td>0,0%</td>\n",
       "    </tr>\n",
       "    <tr>\n",
       "      <th>2</th>\n",
       "      <td>Dow</td>\n",
       "      <td>34 382</td>\n",
       "      <td>1,1%</td>\n",
       "      <td>FTSE100</td>\n",
       "      <td>7 044</td>\n",
       "      <td>1,2%</td>\n",
       "      <td>Золото</td>\n",
       "      <td>1 843</td>\n",
       "      <td>0,9%</td>\n",
       "      <td>EUR/USD</td>\n",
       "      <td>12146</td>\n",
       "      <td>0,0%</td>\n",
       "    </tr>\n",
       "  </tbody>\n",
       "</table>\n",
       "</div>"
      ],
      "text/plain": [
       "     0       1     2        3       4     5        6       7     8        9   \\\n",
       "0  ММВБ   3 638  0,0%   Nasdaq  13 430  2,3%  Биткойн  48 263  3,0%  USD/RUB   \n",
       "1   РТС   1 549  0,1%   S&P500   4 174  1,5%    Нефть     688  2,7%  EUR/RUB   \n",
       "2   Dow  34 382  1,1%  FTSE100   7 044  1,2%   Золото   1 843  0,9%  EUR/USD   \n",
       "\n",
       "       10    11  \n",
       "0  740160  0,0%  \n",
       "1  898740  0,0%  \n",
       "2   12146  0,0%  "
      ]
     },
     "execution_count": 159,
     "metadata": {},
     "output_type": "execute_result"
    }
   ],
   "source": [
    "page_1 = 'https://www.finanz.ru/valyuty/v-realnom-vremeni'\n",
    "\n",
    "page_2 = 'https://fortrader.org/quotes'\n",
    "\n",
    "trade = pd.read_html(page_1, encoding='utf-8')[0]\n",
    "\n",
    "trade"
   ]
  }
 ],
 "metadata": {
  "kernelspec": {
   "display_name": "Python 3",
   "language": "python",
   "name": "python3"
  },
  "language_info": {
   "codemirror_mode": {
    "name": "ipython",
    "version": 3
   },
   "file_extension": ".py",
   "mimetype": "text/x-python",
   "name": "python",
   "nbconvert_exporter": "python",
   "pygments_lexer": "ipython3",
   "version": "3.8.5"
  }
 },
 "nbformat": 4,
 "nbformat_minor": 4
}
